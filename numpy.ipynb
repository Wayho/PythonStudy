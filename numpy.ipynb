{
 "cells": [
  {
   "cell_type": "markdown",
   "metadata": {},
   "source": [
    "# NumPy"
   ]
  },
  {
   "cell_type": "markdown",
   "metadata": {},
   "source": [
    "## NumPy实例"
   ]
  },
  {
   "cell_type": "code",
   "execution_count": null,
   "metadata": {},
   "outputs": [],
   "source": [
    "import numpy as np #尽管别名可以省略或更改，建议使用上述约定的别名\n",
    "a = np.array([[0, 1, 2, 3, 4],[9, 8, 7, 6, 5]]) #np.array()生成一个ndarry数组\n",
    "print(a) #np.array() 输出成[]形式，元素由空格分割"
   ]
  },
  {
   "cell_type": "markdown",
   "metadata": {},
   "source": [
    "## ndarray数组的创建方法"
   ]
  },
  {
   "cell_type": "markdown",
   "metadata": {},
   "source": [
    "### 使用Python数据类型创建"
   ]
  },
  {
   "cell_type": "code",
   "execution_count": null,
   "metadata": {},
   "outputs": [],
   "source": [
    "#np.array用来生成矩阵\n",
    "a = np.array([1,2,3,4]) #从Python中的列表创建ndarray数组\n",
    "b = np.array((5,6,7,8)) #从Python中的元组创建ndarray数组\n",
    "c = np.array([[1,2],[9,8],(0.1,0.2)]) #从Python中的列表、元组混合类型创建ndarray数组\n",
    "print(a)\n",
    "print(b)\n",
    "print(c)"
   ]
  },
  {
   "cell_type": "markdown",
   "metadata": {},
   "source": [
    "### 使用NumPy中函数创建ndarray数组"
   ]
  },
  {
   "cell_type": "code",
   "execution_count": null,
   "metadata": {},
   "outputs": [],
   "source": [
    "#np.arange类似range函数  \n",
    "#dtype是数据类型，有int64，complex，unit16等 \n",
    "#shape是个元组属性，表示每一维的宽度 \n",
    "#size是所有元素个数 \n",
    "#ndim是维数\n",
    "a = np.arange(1,5)\n",
    "print a, a.dtype, a.shape, a.size, a.ndim"
   ]
  },
  {
   "cell_type": "code",
   "execution_count": null,
   "metadata": {},
   "outputs": [],
   "source": [
    "#linspace在0，1之间等间距填充5个数据\n",
    "x = np.linspace(0,1,5)\n",
    "print x"
   ]
  },
  {
   "cell_type": "code",
   "execution_count": null,
   "metadata": {},
   "outputs": [],
   "source": [
    "#全0矩阵\n",
    "a = np.zeros((3,3))\n",
    "#全1矩阵\n",
    "b = np.ones((5,4))\n",
    "#单位矩阵：对角线为1，其余全为0\n",
    "c = np.eye(3)\n",
    "#将a,c合并为一个新矩阵d\n",
    "d = np.concatenate((a, c))\n",
    "print ('全0矩阵:')\n",
    "print(a)\n",
    "print ('全1矩阵:')\n",
    "print(b)\n",
    "print ('单位矩阵：对角线为1，其余全为0:')\n",
    "print(c)\n",
    "print ('a,c合并为一个新矩阵:')\n",
    "print(d)"
   ]
  },
  {
   "cell_type": "markdown",
   "metadata": {},
   "source": [
    "## ndarray数组的变换"
   ]
  },
  {
   "cell_type": "markdown",
   "metadata": {},
   "source": [
    "### 铺平一个矩阵"
   ]
  },
  {
   "cell_type": "code",
   "execution_count": null,
   "metadata": {},
   "outputs": [],
   "source": [
    "#ravel()和flatten()看起来效果一样，都是把矩阵展平\n",
    "m = np.array([np.arange(6),np.arange(6)])\n",
    "n = np.array([[1,2,3,4],[5,6,7,8]])\n",
    "x = m.ravel() #ravel()返回的是原有数据的一个映射（view），没有分配新的存储，改变它的值原有数据会变\n",
    "y = n.flatten() #flatten()返回的是新的数据，改变它的值原有数据不会变\n",
    "print m\n",
    "print x\n",
    "\n",
    "print n\n",
    "print y"
   ]
  },
  {
   "cell_type": "markdown",
   "metadata": {},
   "source": [
    "### 改变矩阵的shape/size"
   ]
  },
  {
   "cell_type": "code",
   "execution_count": null,
   "metadata": {},
   "outputs": [],
   "source": [
    "n = np.array([[0 ,1 ,2 ,3 ,4 ,5],[0 ,1 ,2 ,3 ,4 ,5]])\n",
    "x = n.reshape(3,4)#reshape()返回一个view，n不变\n",
    "print x\n",
    "print n\n",
    "y = n.resize(3,4)#resize()直接在当前数据上更改，返回空\n",
    "print y\n",
    "print n"
   ]
  },
  {
   "cell_type": "markdown",
   "metadata": {},
   "source": [
    "## ndarray数组的变换"
   ]
  },
  {
   "cell_type": "code",
   "execution_count": null,
   "metadata": {},
   "outputs": [],
   "source": [
    "a = np.arange(1,5)\n",
    "b = a.astype(np.float) #astype()方法会创建一个新的数组（原始数据的一个拷贝）\n",
    "n = np.array([[0 ,1 ,2 ,3 ,4 ,5],[0 ,1 ,2 ,3 ,4 ,5]])\n",
    "ls = n.tolist() #tolist方法会将数组转换成列表\n",
    "print(a)\n",
    "print(b)\n",
    "print(ls)"
   ]
  },
  {
   "cell_type": "markdown",
   "metadata": {},
   "source": [
    "## ndarray数组的操作"
   ]
  },
  {
   "cell_type": "markdown",
   "metadata": {},
   "source": [
    "### 一维数组的索引和切片：与Python的列表类似"
   ]
  },
  {
   "cell_type": "code",
   "execution_count": null,
   "metadata": {},
   "outputs": [],
   "source": [
    "a = np.array([9,8,7,6,5])\n",
    "print(a[2])\n",
    "print(a[1:4:2])"
   ]
  },
  {
   "cell_type": "markdown",
   "metadata": {},
   "source": [
    "### 多维数组的索引：每个维度一个索引值，逗号分隔"
   ]
  },
  {
   "cell_type": "code",
   "execution_count": null,
   "metadata": {},
   "outputs": [],
   "source": [
    "b = np.arange(24).reshape((2,3,4))\n",
    "print(b)\n",
    "print(b[1,2,3])\n",
    "print(b[-1,-2,-3])"
   ]
  },
  {
   "cell_type": "code",
   "execution_count": null,
   "metadata": {},
   "outputs": [],
   "source": [
    "b = np.arange(24).reshape((2,3,4))\n",
    "print(b)\n",
    "print(b[:,1,-3])"
   ]
  },
  {
   "cell_type": "code",
   "execution_count": null,
   "metadata": {},
   "outputs": [],
   "source": [
    "b = np.arange(24).reshape((2,3,4))\n",
    "print(b)\n",
    "print(b[:,1:3,:])"
   ]
  },
  {
   "cell_type": "code",
   "execution_count": null,
   "metadata": {},
   "outputs": [],
   "source": [
    "b = np.arange(24).reshape((2,3,4))\n",
    "print(b)\n",
    "print(b[:,:,::2])"
   ]
  },
  {
   "cell_type": "markdown",
   "metadata": {},
   "source": [
    "## ndarray数组的运算"
   ]
  },
  {
   "cell_type": "markdown",
   "metadata": {},
   "source": [
    "### 数组与标量之间的运算：数组与标量之间的运算作用于数组的每一个元素"
   ]
  },
  {
   "cell_type": "code",
   "execution_count": null,
   "metadata": {},
   "outputs": [],
   "source": [
    "a = np.arange(24).reshape((2,3,4))\n",
    "print(a)\n",
    "print(a*2)"
   ]
  },
  {
   "cell_type": "markdown",
   "metadata": {},
   "source": [
    "### NumPy一元函数：对ndarray中的数据执行元素级运算的函数"
   ]
  },
  {
   "cell_type": "code",
   "execution_count": null,
   "metadata": {},
   "outputs": [],
   "source": [
    "a = np.arange(24).reshape((2,3,4))\n",
    "print(a)\n",
    "print(np.square(a))\n",
    "b = np.sqrt(a)\n",
    "print(b)\n",
    "print(np.modf(b))"
   ]
  },
  {
   "cell_type": "markdown",
   "metadata": {},
   "source": [
    "### NumPy二元函数"
   ]
  },
  {
   "cell_type": "code",
   "execution_count": null,
   "metadata": {},
   "outputs": [],
   "source": [
    "a = np.arange(24).reshape((2,3,4))\n",
    "b = np.sqrt(a)\n",
    "print(np.maximum(a,b))\n",
    "print(a>b)"
   ]
  },
  {
   "cell_type": "markdown",
   "metadata": {},
   "source": [
    "# NumPy案例"
   ]
  },
  {
   "cell_type": "markdown",
   "metadata": {},
   "source": [
    "## NumPy与Python计算比较"
   ]
  },
  {
   "cell_type": "code",
   "execution_count": null,
   "metadata": {},
   "outputs": [],
   "source": [
    "import time\n",
    "def pythonsum(n):\n",
    "    a = range(n)\n",
    "    b = range(n)\n",
    "    c = []\n",
    "    \n",
    "    for i in range(len(a)):\n",
    "        a[i] = i ** 2\n",
    "        b[i] = i ** 3\n",
    "        c.append(a[i] + b[i])\n",
    "    return c\n",
    "def numpysum(n):\n",
    "    a = np.arange(n)\n",
    "    b = np.arange(n)\n",
    "    c = a ** 2 + b ** 3\n",
    "    return c\n",
    "start = time.time()\n",
    "y = numpysum(4000)\n",
    "delta =  time.time() - start\n",
    "print(\"The last 2 elements of the sum\", y[-2:])\n",
    "print(\"NumPySum elapsed time\", delta)\n",
    "x = pythonsum(4000)\n",
    "delta =  time.time() - start\n",
    "print(\"The last 2 elements of the sum\", x[-2:])\n",
    "print(\"PythonSum elapsed time\", delta)"
   ]
  },
  {
   "cell_type": "markdown",
   "metadata": {},
   "source": [
    "## 图像手绘效果"
   ]
  },
  {
   "cell_type": "code",
   "execution_count": null,
   "metadata": {
    "collapsed": true
   },
   "outputs": [],
   "source": []
  }
 ],
 "metadata": {
  "kernelspec": {
   "display_name": "Python 2",
   "language": "python",
   "name": "python2"
  },
  "language_info": {
   "codemirror_mode": {
    "name": "ipython",
    "version": 2
   },
   "file_extension": ".py",
   "mimetype": "text/x-python",
   "name": "python",
   "nbconvert_exporter": "python",
   "pygments_lexer": "ipython2",
   "version": "2.7.13"
  },
  "toc": {
   "nav_menu": {},
   "number_sections": true,
   "sideBar": true,
   "skip_h1_title": false,
   "toc_cell": false,
   "toc_position": {},
   "toc_section_display": "block",
   "toc_window_display": false
  }
 },
 "nbformat": 4,
 "nbformat_minor": 2
}
