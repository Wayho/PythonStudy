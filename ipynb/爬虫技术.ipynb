{
 "cells": [
  {
   "cell_type": "markdown",
   "metadata": {
    "toc": true
   },
   "source": [
    "<h1>Table of Contents<span class=\"tocSkip\"></span></h1>\n",
    "<div class=\"toc\" style=\"margin-top: 1em;\"><ul class=\"toc-item\"><li><ul class=\"toc-item\"><li><span><a href=\"#简单爬虫\" data-toc-modified-id=\"简单爬虫-0.1\"><span class=\"toc-item-num\">0.1&nbsp;&nbsp;</span>简单爬虫</a></span></li><li><span><a href=\"#爬下数据后进行正则表达式获取数据\" data-toc-modified-id=\"爬下数据后进行正则表达式获取数据-0.2\"><span class=\"toc-item-num\">0.2&nbsp;&nbsp;</span>爬下数据后进行正则表达式获取数据</a></span></li><li><span><a href=\"#利用request爬取网页\" data-toc-modified-id=\"利用request爬取网页-0.3\"><span class=\"toc-item-num\">0.3&nbsp;&nbsp;</span>利用request爬取网页</a></span></li><li><span><a href=\"#利用request模拟浏览器头信息\" data-toc-modified-id=\"利用request模拟浏览器头信息-0.4\"><span class=\"toc-item-num\">0.4&nbsp;&nbsp;</span>利用request模拟浏览器头信息</a></span></li><li><span><a href=\"#错误处理\" data-toc-modified-id=\"错误处理-0.5\"><span class=\"toc-item-num\">0.5&nbsp;&nbsp;</span>错误处理</a></span></li><li><span><a href=\"#利用beautifulsoup处理网页\" data-toc-modified-id=\"利用beautifulsoup处理网页-0.6\"><span class=\"toc-item-num\">0.6&nbsp;&nbsp;</span>利用beautifulsoup处理网页</a></span></li><li><span><a href=\"#利用lxml结合xpath爬取数据\" data-toc-modified-id=\"利用lxml结合xpath爬取数据-0.7\"><span class=\"toc-item-num\">0.7&nbsp;&nbsp;</span>利用lxml结合xpath爬取数据</a></span></li><li><span><a href=\"#获取多字段信息\" data-toc-modified-id=\"获取多字段信息-0.8\"><span class=\"toc-item-num\">0.8&nbsp;&nbsp;</span>获取多字段信息</a></span></li><li><span><a href=\"#爬取javascript\" data-toc-modified-id=\"爬取javascript-0.9\"><span class=\"toc-item-num\">0.9&nbsp;&nbsp;</span>爬取javascript</a></span></li><li><span><a href=\"#利用xpath和lxml爬取51job网站信息并存到文件\" data-toc-modified-id=\"利用xpath和lxml爬取51job网站信息并存到文件-0.10\"><span class=\"toc-item-num\">0.10&nbsp;&nbsp;</span>利用xpath和lxml爬取51job网站信息并存到文件</a></span></li><li><span><a href=\"#请编程爬取智联招聘一页招聘信息\" data-toc-modified-id=\"请编程爬取智联招聘一页招聘信息-0.11\"><span class=\"toc-item-num\">0.11&nbsp;&nbsp;</span>请编程爬取智联招聘一页招聘信息</a></span></li></ul></li></ul></div>"
   ]
  },
  {
   "cell_type": "markdown",
   "metadata": {},
   "source": [
    "## 简单爬虫 "
   ]
  },
  {
   "cell_type": "code",
   "execution_count": 3,
   "metadata": {
    "scrolled": false
   },
   "outputs": [
    {
     "ename": "SyntaxError",
     "evalue": "Missing parentheses in call to 'print'. Did you mean print(html[:100])? (<ipython-input-3-0751286776c9>, line 4)",
     "output_type": "error",
     "traceback": [
      "\u001b[1;36m  File \u001b[1;32m\"<ipython-input-3-0751286776c9>\"\u001b[1;36m, line \u001b[1;32m4\u001b[0m\n\u001b[1;33m    print html[:100]\u001b[0m\n\u001b[1;37m             ^\u001b[0m\n\u001b[1;31mSyntaxError\u001b[0m\u001b[1;31m:\u001b[0m Missing parentheses in call to 'print'. Did you mean print(html[:100])?\n"
     ]
    }
   ],
   "source": [
    "import urllib2 \n",
    "response = urllib2.urlopen('http://movie.mtime.com/227434/') \n",
    "html = response.read()\n",
    "print html[:100]"
   ]
  },
  {
   "cell_type": "code",
   "execution_count": 2,
   "metadata": {},
   "outputs": [
    {
     "ename": "SyntaxError",
     "evalue": "invalid syntax (<ipython-input-2-2155db79ea43>, line 10)",
     "output_type": "error",
     "traceback": [
      "\u001b[1;36m  File \u001b[1;32m\"<ipython-input-2-2155db79ea43>\"\u001b[1;36m, line \u001b[1;32m10\u001b[0m\n\u001b[1;33m    print temp[:temp.find(find_str_end)],\u001b[0m\n\u001b[1;37m             ^\u001b[0m\n\u001b[1;31mSyntaxError\u001b[0m\u001b[1;31m:\u001b[0m invalid syntax\n"
     ]
    }
   ],
   "source": [
    "temp=html\n",
    "find_str_begin='<span class=\"db_point ml6\">'\n",
    "find_str_len=len(find_str_begin)\n",
    "find_str_end='</span>'\n",
    "while 1:\n",
    "    i=temp.find(find_str_begin)\n",
    "    if i==-1:\n",
    "        break\n",
    "    temp=temp[i+find_str_len:]\n",
    "    print temp[:temp.find(find_str_end)],"
   ]
  },
  {
   "cell_type": "markdown",
   "metadata": {},
   "source": [
    "## 爬下数据后进行正则表达式获取数据 "
   ]
  },
  {
   "cell_type": "code",
   "execution_count": null,
   "metadata": {
    "collapsed": true
   },
   "outputs": [],
   "source": [
    "import urllib2 \n",
    "import re\n",
    "response = urllib2.urlopen('http://movie.mtime.com/227434/') \n",
    "html = response.read()\n",
    "# print html\n",
    "temp=re.findall(r'<span class=\"db_point ml6\">(.*)</span>',html)\n",
    "print temp"
   ]
  },
  {
   "cell_type": "markdown",
   "metadata": {},
   "source": [
    "## 利用request爬取网页"
   ]
  },
  {
   "cell_type": "code",
   "execution_count": null,
   "metadata": {
    "collapsed": true
   },
   "outputs": [],
   "source": [
    "import urllib2\n",
    "import re\n",
    "req = urllib2.Request('http://movie.mtime.com/227434/') \n",
    "response = urllib2.urlopen(req) \n",
    "the_page = response.read()\n",
    "temp=re.findall(r'<span class=\"db_point ml6\">(.*)</span>',the_page)\n",
    "print temp"
   ]
  },
  {
   "cell_type": "markdown",
   "metadata": {},
   "source": [
    "## 利用request模拟浏览器头信息"
   ]
  },
  {
   "cell_type": "code",
   "execution_count": null,
   "metadata": {
    "collapsed": true,
    "scrolled": true
   },
   "outputs": [],
   "source": [
    "import urllib \n",
    "import urllib2 \n",
    "url = 'http://movie.mtime.com/227434/' \n",
    "user_agent = 'Mozilla/4.0 (compatible; MSIE 5.5; Windows NT)' \n",
    "values = {'name' : 'Michael Foord', 'location' : 'Northampton', 'language' : 'Python' } \n",
    "headers1 = { 'User-Agent' : user_agent } \n",
    "data1 = urllib.urlencode(values) \n",
    "req = urllib2.Request(url,headers=headers1)#如果需要post数据，则data=data1 \n",
    "response = urllib2.urlopen(req) \n",
    "the_page = response.read()\n",
    "temp=re.findall(r'<span class=\"db_point ml6\">(.*)</span>',the_page)\n",
    "print temp"
   ]
  },
  {
   "cell_type": "markdown",
   "metadata": {},
   "source": [
    "## 错误处理 "
   ]
  },
  {
   "cell_type": "code",
   "execution_count": null,
   "metadata": {
    "collapsed": true
   },
   "outputs": [],
   "source": [
    "import urllib2\n",
    "req = urllib2.Request('http://www.python113.org/')\n",
    "try: \n",
    "    response=urllib2.urlopen(req) \n",
    "except urllib2.URLError,e: \n",
    "    print e.reason \n",
    "    print e.reason[0]\n",
    "    print e.reason[1]\n",
    "# except:\n",
    "#      print'不能访问网页'"
   ]
  },
  {
   "cell_type": "code",
   "execution_count": null,
   "metadata": {
    "collapsed": true
   },
   "outputs": [],
   "source": [
    "import urllib2 \n",
    "req = urllib2.Request('http://www.python.org/fish.html')\n",
    "try: \n",
    "    response=urllib2.urlopen(req) \n",
    "except urllib2.HTTPError,e: \n",
    "    print e.code \n",
    "    print e.reason \n",
    "    print e.geturl() \n",
    "    print e.read()\n"
   ]
  },
  {
   "cell_type": "markdown",
   "metadata": {},
   "source": [
    "## 利用beautifulsoup处理网页 "
   ]
  },
  {
   "cell_type": "code",
   "execution_count": null,
   "metadata": {
    "collapsed": true
   },
   "outputs": [],
   "source": [
    "\n",
    "import urllib\n",
    "from bs4 import BeautifulSoup\n",
    "html = urllib.urlopen(\"http://movie.mtime.com/227434/\")\n",
    "bsObj = BeautifulSoup(html.read(),\"lxml\")\n",
    "# print(bsObj.h1) \n",
    "# print(bsObj.span)\n",
    "print(bsObj.prettify())\n"
   ]
  },
  {
   "cell_type": "code",
   "execution_count": null,
   "metadata": {
    "collapsed": true
   },
   "outputs": [],
   "source": [
    "import urllib\n",
    "from bs4 import BeautifulSoup\n",
    "html = urllib.urlopen(\"http://movie.mtime.com/227434/\")\n",
    "bsObj = BeautifulSoup(html.read(),'lxml')\n",
    "# print bsObj.prettify()\n",
    "# point_t= bsObj.find_all('span',{'class':'db_point ml6'})#或者用findAll\n",
    "# for i in point_t:\n",
    "#     print i.text\n",
    "point=bsObj.find_all('a')\n",
    "for i in point:\n",
    "    print i.attrs['href']"
   ]
  },
  {
   "cell_type": "markdown",
   "metadata": {},
   "source": [
    "## 利用lxml结合xpath爬取数据 "
   ]
  },
  {
   "cell_type": "code",
   "execution_count": null,
   "metadata": {
    "collapsed": true
   },
   "outputs": [],
   "source": [
    "from  lxml import etree\n",
    "import urllib2\n",
    "# import re\n",
    "url='http://movie.mtime.com/227434/'\n",
    "req = urllib2.Request(url)\n",
    "reponse=urllib2.urlopen(req)\n",
    "html=reponse.read()\n",
    "selector = etree.HTML(html)\n",
    "# print selector\n",
    "a_t=selector.xpath('//span[@class=\"db_point ml6\"]/text()')\n",
    "print a_t\n"
   ]
  },
  {
   "cell_type": "markdown",
   "metadata": {},
   "source": [
    "## 获取多字段信息 "
   ]
  },
  {
   "cell_type": "code",
   "execution_count": null,
   "metadata": {
    "collapsed": true
   },
   "outputs": [],
   "source": [
    "from  lxml import etree\n",
    "import urllib2\n",
    "import re\n",
    "url='http://movie.mtime.com/227434/'\n",
    "user_agent = 'Mozilla/4.0 (compatible; MSIE 5.5; Windows NT)' \n",
    "headers1 = { 'User-Agent' : user_agent }\n",
    "req = urllib2.Request(url,headers=headers1)\n",
    "reponse=urllib2.urlopen(req)\n",
    "html=reponse.read()\n",
    "selector = etree.HTML(html)\n",
    "user_temp=selector.xpath('//div[@class=\"comboxuser\"]')\n",
    "# print user_temp\n",
    "for uinfo in user_temp:\n",
    "    print uinfo.xpath('.//div[@class=\"pic_58\"]/a/@href')[0],\n",
    "    print uinfo.xpath('.//p[@class=\"px14\"]/a/text()')[0],\n",
    "    print uinfo.xpath('.//span[@class=\"db_point ml6\"]/text()')[0]\n",
    "    "
   ]
  },
  {
   "cell_type": "markdown",
   "metadata": {},
   "source": [
    "## 爬取javascript "
   ]
  },
  {
   "cell_type": "code",
   "execution_count": null,
   "metadata": {
    "collapsed": true
   },
   "outputs": [],
   "source": [
    "from  lxml import etree\n",
    "import urllib2\n",
    "import re\n",
    "url='http://movie.mtime.com/movie/search/section/#color=433'\n",
    "req = urllib2.Request(url)\n",
    "reponse=urllib2.urlopen(req)\n",
    "html=reponse.read()\n",
    "print html\n",
    "# selector = etree.HTML(html)\n",
    "# u_p=selector.xpath('//span[@class=\"db_point ml6\"]/text()')\n",
    "# print u_p"
   ]
  },
  {
   "cell_type": "code",
   "execution_count": null,
   "metadata": {
    "collapsed": true,
    "scrolled": false
   },
   "outputs": [],
   "source": [
    "from  lxml import etree\n",
    "from selenium import webdriver\n",
    "from selenium.webdriver.common.desired_capabilities import DesiredCapabilities\n",
    "from selenium.webdriver.common.proxy import ProxyType\n",
    "phantomjs_path='/Users/zxd/phantomjs/bin/phantomjs'\n",
    "url='http://movie.mtime.com/movie/search/section/#color=433'\n",
    "user_agent=\"Mozilla/5.0 (Windows NT 6.1; WOW64) AppleWebKit/537.1 (KHTML, like Gecko) Chrome/22.0.1207.1 Safari/537.1\"\n",
    "driver=webdriver.PhantomJS(phantomjs_path)\n",
    "desired_capabilities = DesiredCapabilities.PHANTOMJS.copy()\n",
    "desired_capabilities[\"phantomjs.page.settings.userAgent\"] = user_agent\n",
    "desired_capabilities[\"phantomjs.page.settings.loadImages\"] = False\n",
    "desired_capabilities[\"browserName\"]='Internet Explorer'\n",
    "driver.start_session(desired_capabilities)\n",
    "driver.get(url)\n",
    "# print driver.page_source\n",
    "selector = etree.HTML(driver.page_source)\n",
    "movie_temp=selector.xpath('//h3[@class=\"normal mt6\"]')\n",
    "for uinfo in movie_temp:\n",
    "    print uinfo.xpath('.//a/@href')[0],\n",
    "    print uinfo.xpath('.//a/text()')[0]\n",
    "driver.quit()"
   ]
  },
  {
   "cell_type": "markdown",
   "metadata": {},
   "source": [
    "## 利用xpath和lxml爬取51job网站信息并存到文件 "
   ]
  },
  {
   "cell_type": "code",
   "execution_count": null,
   "metadata": {
    "collapsed": true
   },
   "outputs": [],
   "source": [
    "from  lxml import etree\n",
    "import urllib2\n",
    "import re\n",
    "url='http://search.51job.com/list/010000,000000,0000,00,9,99,python,2,1.html?lang=c&stype=&postchannel=0000&workyear=99&cotype=99&degreefrom=99&jobterm=99&companysize=99&providesalary=99&lonlat=0%2C0&radius=-1&ord_field=0&confirmdate=9&fromType=&dibiaoid=0&address=&line=&specialarea=00&from=&welfare='\n",
    "user_agent = 'Mozilla/4.0 (compatible; MSIE 5.5; Windows NT)' \n",
    "headers1 = { 'User-Agent' : user_agent }\n",
    "req = urllib2.Request(url,headers=headers1)\n",
    "reponse=urllib2.urlopen(req)\n",
    "html=reponse.read()\n",
    "# print html\n",
    "selector = etree.HTML(html)\n",
    "fp=open('sam.csv','w')\n",
    "user_temp=selector.xpath('//div[@class=\"dw_table\"]/div[@class=\"el\"]')\n",
    "# print user_temp\n",
    "\n",
    "for uinfo in user_temp:\n",
    "    try:\n",
    "        str1=uinfo.xpath('.//span[@class=\"t2\"]/a[@target=\"_blank\"]/text()')[0].encode('utf-8')+','\n",
    "        str1=str1+uinfo.xpath('.//span[@class=\"t3\"]/text()')[0].encode('utf-8')+','\n",
    "        str1=str1+uinfo.xpath('.//span[@class=\"t4\"]/text()')[0].encode('utf-8')+','\n",
    "        str1=str1+uinfo.xpath('.//span[@class=\"t5\"]/text()')[0].encode('utf-8')+','\n",
    "        str1=str1+uinfo.xpath('.//p[@class=\"t1 \"]/span/a[@target=\"_blank\"]/text()')[0].strip().encode('utf-8')+'\\n'\n",
    "        fp.write(str1)\n",
    "        print str1\n",
    "    except:\n",
    "        pass\n",
    "fp.close()"
   ]
  },
  {
   "cell_type": "markdown",
   "metadata": {},
   "source": [
    "## 请编程爬取智联招聘一页招聘信息\n",
    "url=http://sou.zhaopin.com/jobs/searchresult.ashx?jl=%E5%8C%97%E4%BA%AC%3b%E4%B8%8A%E6%B5%B7%3b%E5%B9%BF%E5%B7%9E%3b%E6%B7%B1%E5%9C%B3%3b%E5%A4%A9%E6%B4%A5&kw=%E5%A4%A7%E6%95%B0%E6%8D%AE&sm=0&isfilter=0&isadv=0&sg=78d35f37b1574296a734b67e4336b3ff&p="
   ]
  },
  {
   "cell_type": "code",
   "execution_count": null,
   "metadata": {
    "collapsed": true
   },
   "outputs": [],
   "source": []
  }
 ],
 "metadata": {
  "kernelspec": {
   "display_name": "Python 3",
   "language": "python",
   "name": "python3"
  },
  "language_info": {
   "codemirror_mode": {
    "name": "ipython",
    "version": 3
   },
   "file_extension": ".py",
   "mimetype": "text/x-python",
   "name": "python",
   "nbconvert_exporter": "python",
   "pygments_lexer": "ipython3",
   "version": "3.6.3"
  },
  "nbTranslate": {
   "displayLangs": [
    "*"
   ],
   "hotkey": "alt-t",
   "langInMainMenu": true,
   "sourceLang": "en",
   "targetLang": "fr",
   "useGoogleTranslate": true
  },
  "toc": {
   "nav_menu": {},
   "number_sections": true,
   "sideBar": true,
   "skip_h1_title": false,
   "toc_cell": true,
   "toc_position": {},
   "toc_section_display": "block",
   "toc_window_display": true
  }
 },
 "nbformat": 4,
 "nbformat_minor": 2
}
